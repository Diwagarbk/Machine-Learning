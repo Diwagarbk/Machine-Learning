{
  "nbformat": 4,
  "nbformat_minor": 0,
  "metadata": {
    "colab": {
      "provenance": [],
      "collapsed_sections": [],
      "authorship_tag": "ABX9TyNIeBaHbGzwqyg7V7z9EglA",
      "include_colab_link": true
    },
    "kernelspec": {
      "name": "python3",
      "display_name": "Python 3"
    },
    "language_info": {
      "name": "python"
    }
  },
  "cells": [
    {
      "cell_type": "markdown",
      "metadata": {
        "id": "view-in-github",
        "colab_type": "text"
      },
      "source": [
        "<a href=\"https://colab.research.google.com/github/Diwagarbk/Machine-Learning/blob/main/Linear_regression.ipynb\" target=\"_parent\"><img src=\"https://colab.research.google.com/assets/colab-badge.svg\" alt=\"Open In Colab\"/></a>"
      ]
    },
    {
      "cell_type": "code",
      "execution_count": 2,
      "metadata": {
        "id": "kFgc9cVDauNw"
      },
      "outputs": [],
      "source": [
        "#import libraries\n",
        "import pandas as pd\n",
        "import numpy as np\n",
        "import matplotlib.pyplot as plt"
      ]
    },
    {
      "cell_type": "code",
      "source": [
        "#read dataset\n",
        "df=pd.read_csv('data.csv')"
      ],
      "metadata": {
        "id": "jeyVd6ZJbBl9"
      },
      "execution_count": 3,
      "outputs": []
    },
    {
      "cell_type": "code",
      "source": [
        "#visualize using scatter plot\n",
        "plt.scatter(df.x,df.y)"
      ],
      "metadata": {
        "colab": {
          "base_uri": "https://localhost:8080/",
          "height": 282
        },
        "id": "7yHyr8w2cgVz",
        "outputId": "eff90b3f-0daa-479b-b91d-5a6e1332f828"
      },
      "execution_count": 4,
      "outputs": [
        {
          "output_type": "execute_result",
          "data": {
            "text/plain": [
              "<matplotlib.collections.PathCollection at 0x7f3754613590>"
            ]
          },
          "metadata": {},
          "execution_count": 4
        },
        {
          "output_type": "display_data",
          "data": {
            "text/plain": [
              "<Figure size 432x288 with 1 Axes>"
            ],
            "image/png": "[encoded data removed]"
          },
          "metadata": {
            "needs_background": "light"
          }
        }
      ]
    },
    {
      "cell_type": "code",
      "source": [
        "def gradient_descent(m_now,b_now,points,L):\n",
        "    m_gradient=0\n",
        "    b_gradient=0\n",
        "\n",
        "    n=len(points)\n",
        "    for i in range(n):\n",
        "      X=points.iloc[i].x\n",
        "      Y=points.iloc[i].y\n",
        "\n",
        "      m_gradient += -(2/n) * X * (Y-(m_now * X + b_now))\n",
        "      b_gradient += -(2/n) * (Y-(m_now * X + b_now))\n",
        "\n",
        "      m = m_now - m_gradient * L\n",
        "      b = b_now - b_gradient * L\n",
        "      return m,b\n",
        "\n",
        "\n",
        "\n"
      ],
      "metadata": {
        "id": "-r1yviYMep-R"
      },
      "execution_count": 5,
      "outputs": []
    },
    {
      "cell_type": "code",
      "source": [
        "m=1\n",
        "b=0\n",
        "L=0.0001\n",
        "epochs=300\n",
        "for i in range(epochs):\n",
        "  if i%50 == 0:\n",
        "    print(f\"Epoch:{i}\")\n",
        "  m,b = gradient_descent(m,b,df,L)\n",
        "print(m,b)\n",
        "plt.scatter(df.x,df.y,color=\"y\")\n",
        "\n",
        "plt.plot(list(range(105)),[m * x + b for x in range(105)])\n",
        "plt.show()"
      ],
      "metadata": {
        "colab": {
          "base_uri": "https://localhost:8080/",
          "height": 386
        },
        "id": "SrecwCR6wnE1",
        "outputId": "3cb824b0-2219-40d9-d92e-5e949c9b7036"
      },
      "execution_count": 12,
      "outputs": [
        {
          "output_type": "stream",
          "name": "stdout",
          "text": [
            "Epoch:0\n",
            "Epoch:50\n",
            "Epoch:100\n",
            "Epoch:150\n",
            "Epoch:200\n",
            "Epoch:250\n",
            "0.9950811070113916 -0.00020495387452535595\n"
          ]
        },
        {
          "output_type": "display_data",
          "data": {
            "text/plain": [
              "<Figure size 432x288 with 1 Axes>"
            ],
            "image/png": "[encoded data removed]"
          },
          "metadata": {
            "needs_background": "light"
          }
        }
      ]
    }
  ]
}